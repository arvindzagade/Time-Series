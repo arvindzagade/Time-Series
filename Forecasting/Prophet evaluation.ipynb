{
 "cells": [
  {
   "cell_type": "code",
   "execution_count": 1,
   "metadata": {},
   "outputs": [],
   "source": [
    "import pandas as pd\n",
    "from fbprophet import Prophet"
   ]
  },
  {
   "cell_type": "code",
   "execution_count": 2,
   "metadata": {},
   "outputs": [],
   "source": [
    "df = pd.read_csv('../Data/Miles_Traveled.csv')"
   ]
  },
  {
   "cell_type": "code",
   "execution_count": 3,
   "metadata": {},
   "outputs": [
    {
     "name": "stdout",
     "output_type": "stream",
     "text": [
      "<class 'pandas.core.frame.DataFrame'>\n",
      "RangeIndex: 588 entries, 0 to 587\n",
      "Data columns (total 2 columns):\n",
      " #   Column            Non-Null Count  Dtype  \n",
      "---  ------            --------------  -----  \n",
      " 0   DATE              588 non-null    object \n",
      " 1   TRFVOLUSM227NFWA  588 non-null    float64\n",
      "dtypes: float64(1), object(1)\n",
      "memory usage: 9.3+ KB\n"
     ]
    }
   ],
   "source": [
    "df.info()"
   ]
  },
  {
   "cell_type": "code",
   "execution_count": 4,
   "metadata": {},
   "outputs": [
    {
     "data": {
      "text/plain": [
       "Index(['DATE', 'TRFVOLUSM227NFWA'], dtype='object')"
      ]
     },
     "execution_count": 4,
     "metadata": {},
     "output_type": "execute_result"
    }
   ],
   "source": [
    "df.columns"
   ]
  },
  {
   "cell_type": "code",
   "execution_count": 5,
   "metadata": {},
   "outputs": [
    {
     "data": {
      "text/html": [
       "<div>\n",
       "<style scoped>\n",
       "    .dataframe tbody tr th:only-of-type {\n",
       "        vertical-align: middle;\n",
       "    }\n",
       "\n",
       "    .dataframe tbody tr th {\n",
       "        vertical-align: top;\n",
       "    }\n",
       "\n",
       "    .dataframe thead th {\n",
       "        text-align: right;\n",
       "    }\n",
       "</style>\n",
       "<table border=\"1\" class=\"dataframe\">\n",
       "  <thead>\n",
       "    <tr style=\"text-align: right;\">\n",
       "      <th></th>\n",
       "      <th>DATE</th>\n",
       "      <th>TRFVOLUSM227NFWA</th>\n",
       "    </tr>\n",
       "  </thead>\n",
       "  <tbody>\n",
       "    <tr>\n",
       "      <th>0</th>\n",
       "      <td>1970-01-01</td>\n",
       "      <td>80173.0</td>\n",
       "    </tr>\n",
       "    <tr>\n",
       "      <th>1</th>\n",
       "      <td>1970-02-01</td>\n",
       "      <td>77442.0</td>\n",
       "    </tr>\n",
       "    <tr>\n",
       "      <th>2</th>\n",
       "      <td>1970-03-01</td>\n",
       "      <td>90223.0</td>\n",
       "    </tr>\n",
       "    <tr>\n",
       "      <th>3</th>\n",
       "      <td>1970-04-01</td>\n",
       "      <td>89956.0</td>\n",
       "    </tr>\n",
       "    <tr>\n",
       "      <th>4</th>\n",
       "      <td>1970-05-01</td>\n",
       "      <td>97972.0</td>\n",
       "    </tr>\n",
       "  </tbody>\n",
       "</table>\n",
       "</div>"
      ],
      "text/plain": [
       "         DATE  TRFVOLUSM227NFWA\n",
       "0  1970-01-01           80173.0\n",
       "1  1970-02-01           77442.0\n",
       "2  1970-03-01           90223.0\n",
       "3  1970-04-01           89956.0\n",
       "4  1970-05-01           97972.0"
      ]
     },
     "execution_count": 5,
     "metadata": {},
     "output_type": "execute_result"
    }
   ],
   "source": [
    "df.head()"
   ]
  },
  {
   "cell_type": "code",
   "execution_count": 6,
   "metadata": {},
   "outputs": [],
   "source": [
    "df.columns = ['ds','y']\n",
    "df['ds'] = pd.to_datetime(df['ds'])"
   ]
  },
  {
   "cell_type": "code",
   "execution_count": 7,
   "metadata": {},
   "outputs": [
    {
     "data": {
      "text/html": [
       "<div>\n",
       "<style scoped>\n",
       "    .dataframe tbody tr th:only-of-type {\n",
       "        vertical-align: middle;\n",
       "    }\n",
       "\n",
       "    .dataframe tbody tr th {\n",
       "        vertical-align: top;\n",
       "    }\n",
       "\n",
       "    .dataframe thead th {\n",
       "        text-align: right;\n",
       "    }\n",
       "</style>\n",
       "<table border=\"1\" class=\"dataframe\">\n",
       "  <thead>\n",
       "    <tr style=\"text-align: right;\">\n",
       "      <th></th>\n",
       "      <th>ds</th>\n",
       "      <th>y</th>\n",
       "    </tr>\n",
       "  </thead>\n",
       "  <tbody>\n",
       "    <tr>\n",
       "      <th>0</th>\n",
       "      <td>1970-01-01</td>\n",
       "      <td>80173.0</td>\n",
       "    </tr>\n",
       "    <tr>\n",
       "      <th>1</th>\n",
       "      <td>1970-02-01</td>\n",
       "      <td>77442.0</td>\n",
       "    </tr>\n",
       "    <tr>\n",
       "      <th>2</th>\n",
       "      <td>1970-03-01</td>\n",
       "      <td>90223.0</td>\n",
       "    </tr>\n",
       "    <tr>\n",
       "      <th>3</th>\n",
       "      <td>1970-04-01</td>\n",
       "      <td>89956.0</td>\n",
       "    </tr>\n",
       "    <tr>\n",
       "      <th>4</th>\n",
       "      <td>1970-05-01</td>\n",
       "      <td>97972.0</td>\n",
       "    </tr>\n",
       "  </tbody>\n",
       "</table>\n",
       "</div>"
      ],
      "text/plain": [
       "          ds        y\n",
       "0 1970-01-01  80173.0\n",
       "1 1970-02-01  77442.0\n",
       "2 1970-03-01  90223.0\n",
       "3 1970-04-01  89956.0\n",
       "4 1970-05-01  97972.0"
      ]
     },
     "execution_count": 7,
     "metadata": {},
     "output_type": "execute_result"
    }
   ],
   "source": [
    "df.head()"
   ]
  },
  {
   "cell_type": "code",
   "execution_count": 8,
   "metadata": {},
   "outputs": [
    {
     "data": {
      "text/plain": [
       "<matplotlib.axes._subplots.AxesSubplot at 0x1b522fc9c70>"
      ]
     },
     "execution_count": 8,
     "metadata": {},
     "output_type": "execute_result"
    },
    {
     "data": {
      "image/png": "[encoded data removed]",
      "text/plain": [
       "<Figure size 432x288 with 1 Axes>"
      ]
     },
     "metadata": {
      "needs_background": "light"
     },
     "output_type": "display_data"
    }
   ],
   "source": [
    "df.plot(x='ds',y='y')"
   ]
  },
  {
   "cell_type": "code",
   "execution_count": 10,
   "metadata": {},
   "outputs": [
    {
     "data": {
      "text/plain": [
       "588"
      ]
     },
     "execution_count": 10,
     "metadata": {},
     "output_type": "execute_result"
    }
   ],
   "source": [
    "len(df)"
   ]
  },
  {
   "cell_type": "code",
   "execution_count": 11,
   "metadata": {},
   "outputs": [],
   "source": [
    "train = df.iloc[:576]\n",
    "test = df.iloc[576:]\n"
   ]
  },
  {
   "cell_type": "code",
   "execution_count": 12,
   "metadata": {},
   "outputs": [],
   "source": [
    "m = Prophet()"
   ]
  },
  {
   "cell_type": "code",
   "execution_count": 13,
   "metadata": {},
   "outputs": [
    {
     "name": "stderr",
     "output_type": "stream",
     "text": [
      "INFO:fbprophet:Disabling weekly seasonality. Run prophet with weekly_seasonality=True to override this.\n",
      "INFO:fbprophet:Disabling daily seasonality. Run prophet with daily_seasonality=True to override this.\n"
     ]
    },
    {
     "data": {
      "text/plain": [
       "<fbprophet.forecaster.Prophet at 0x1b523757550>"
      ]
     },
     "execution_count": 13,
     "metadata": {},
     "output_type": "execute_result"
    }
   ],
   "source": [
    "m.fit(train)"
   ]
  },
  {
   "cell_type": "code",
   "execution_count": 14,
   "metadata": {},
   "outputs": [],
   "source": [
    "future = m.make_future_dataframe(periods=12,freq='MS')"
   ]
  },
  {
   "cell_type": "code",
   "execution_count": 15,
   "metadata": {},
   "outputs": [],
   "source": [
    "forecast = m.predict(future)"
   ]
  },
  {
   "cell_type": "code",
   "execution_count": 16,
   "metadata": {},
   "outputs": [
    {
     "data": {
      "text/html": [
       "<div>\n",
       "<style scoped>\n",
       "    .dataframe tbody tr th:only-of-type {\n",
       "        vertical-align: middle;\n",
       "    }\n",
       "\n",
       "    .dataframe tbody tr th {\n",
       "        vertical-align: top;\n",
       "    }\n",
       "\n",
       "    .dataframe thead th {\n",
       "        text-align: right;\n",
       "    }\n",
       "</style>\n",
       "<table border=\"1\" class=\"dataframe\">\n",
       "  <thead>\n",
       "    <tr style=\"text-align: right;\">\n",
       "      <th></th>\n",
       "      <th>ds</th>\n",
       "      <th>trend</th>\n",
       "      <th>yhat_lower</th>\n",
       "      <th>yhat_upper</th>\n",
       "      <th>trend_lower</th>\n",
       "      <th>trend_upper</th>\n",
       "      <th>additive_terms</th>\n",
       "      <th>additive_terms_lower</th>\n",
       "      <th>additive_terms_upper</th>\n",
       "      <th>yearly</th>\n",
       "      <th>yearly_lower</th>\n",
       "      <th>yearly_upper</th>\n",
       "      <th>multiplicative_terms</th>\n",
       "      <th>multiplicative_terms_lower</th>\n",
       "      <th>multiplicative_terms_upper</th>\n",
       "      <th>yhat</th>\n",
       "    </tr>\n",
       "  </thead>\n",
       "  <tbody>\n",
       "    <tr>\n",
       "      <th>0</th>\n",
       "      <td>1970-01-01</td>\n",
       "      <td>94181.559784</td>\n",
       "      <td>69686.387567</td>\n",
       "      <td>81262.325944</td>\n",
       "      <td>94181.559784</td>\n",
       "      <td>94181.559784</td>\n",
       "      <td>-18599.797646</td>\n",
       "      <td>-18599.797646</td>\n",
       "      <td>-18599.797646</td>\n",
       "      <td>-18599.797646</td>\n",
       "      <td>-18599.797646</td>\n",
       "      <td>-18599.797646</td>\n",
       "      <td>0.0</td>\n",
       "      <td>0.0</td>\n",
       "      <td>0.0</td>\n",
       "      <td>75581.762139</td>\n",
       "    </tr>\n",
       "    <tr>\n",
       "      <th>1</th>\n",
       "      <td>1970-02-01</td>\n",
       "      <td>94493.496722</td>\n",
       "      <td>61615.557086</td>\n",
       "      <td>73105.003502</td>\n",
       "      <td>94493.496722</td>\n",
       "      <td>94493.496722</td>\n",
       "      <td>-27108.834612</td>\n",
       "      <td>-27108.834612</td>\n",
       "      <td>-27108.834612</td>\n",
       "      <td>-27108.834612</td>\n",
       "      <td>-27108.834612</td>\n",
       "      <td>-27108.834612</td>\n",
       "      <td>0.0</td>\n",
       "      <td>0.0</td>\n",
       "      <td>0.0</td>\n",
       "      <td>67384.662111</td>\n",
       "    </tr>\n",
       "    <tr>\n",
       "      <th>2</th>\n",
       "      <td>1970-03-01</td>\n",
       "      <td>94775.246215</td>\n",
       "      <td>88887.289035</td>\n",
       "      <td>100516.810519</td>\n",
       "      <td>94775.246215</td>\n",
       "      <td>94775.246215</td>\n",
       "      <td>-36.299658</td>\n",
       "      <td>-36.299658</td>\n",
       "      <td>-36.299658</td>\n",
       "      <td>-36.299658</td>\n",
       "      <td>-36.299658</td>\n",
       "      <td>-36.299658</td>\n",
       "      <td>0.0</td>\n",
       "      <td>0.0</td>\n",
       "      <td>0.0</td>\n",
       "      <td>94738.946557</td>\n",
       "    </tr>\n",
       "    <tr>\n",
       "      <th>3</th>\n",
       "      <td>1970-04-01</td>\n",
       "      <td>95087.183153</td>\n",
       "      <td>89450.620198</td>\n",
       "      <td>100540.225073</td>\n",
       "      <td>95087.183153</td>\n",
       "      <td>95087.183153</td>\n",
       "      <td>27.606045</td>\n",
       "      <td>27.606045</td>\n",
       "      <td>27.606045</td>\n",
       "      <td>27.606045</td>\n",
       "      <td>27.606045</td>\n",
       "      <td>27.606045</td>\n",
       "      <td>0.0</td>\n",
       "      <td>0.0</td>\n",
       "      <td>0.0</td>\n",
       "      <td>95114.789197</td>\n",
       "    </tr>\n",
       "    <tr>\n",
       "      <th>4</th>\n",
       "      <td>1970-05-01</td>\n",
       "      <td>95389.057609</td>\n",
       "      <td>99376.322554</td>\n",
       "      <td>110838.907583</td>\n",
       "      <td>95389.057609</td>\n",
       "      <td>95389.057609</td>\n",
       "      <td>9610.744015</td>\n",
       "      <td>9610.744015</td>\n",
       "      <td>9610.744015</td>\n",
       "      <td>9610.744015</td>\n",
       "      <td>9610.744015</td>\n",
       "      <td>9610.744015</td>\n",
       "      <td>0.0</td>\n",
       "      <td>0.0</td>\n",
       "      <td>0.0</td>\n",
       "      <td>104999.801624</td>\n",
       "    </tr>\n",
       "    <tr>\n",
       "      <th>...</th>\n",
       "      <td>...</td>\n",
       "      <td>...</td>\n",
       "      <td>...</td>\n",
       "      <td>...</td>\n",
       "      <td>...</td>\n",
       "      <td>...</td>\n",
       "      <td>...</td>\n",
       "      <td>...</td>\n",
       "      <td>...</td>\n",
       "      <td>...</td>\n",
       "      <td>...</td>\n",
       "      <td>...</td>\n",
       "      <td>...</td>\n",
       "      <td>...</td>\n",
       "      <td>...</td>\n",
       "      <td>...</td>\n",
       "    </tr>\n",
       "    <tr>\n",
       "      <th>583</th>\n",
       "      <td>2018-08-01</td>\n",
       "      <td>263557.251253</td>\n",
       "      <td>274430.034732</td>\n",
       "      <td>285733.694417</td>\n",
       "      <td>263506.532058</td>\n",
       "      <td>263600.655622</td>\n",
       "      <td>16443.515456</td>\n",
       "      <td>16443.515456</td>\n",
       "      <td>16443.515456</td>\n",
       "      <td>16443.515456</td>\n",
       "      <td>16443.515456</td>\n",
       "      <td>16443.515456</td>\n",
       "      <td>0.0</td>\n",
       "      <td>0.0</td>\n",
       "      <td>0.0</td>\n",
       "      <td>280000.766709</td>\n",
       "    </tr>\n",
       "    <tr>\n",
       "      <th>584</th>\n",
       "      <td>2018-09-01</td>\n",
       "      <td>263701.749361</td>\n",
       "      <td>255776.464842</td>\n",
       "      <td>267974.359500</td>\n",
       "      <td>263614.600224</td>\n",
       "      <td>263783.949373</td>\n",
       "      <td>-1675.833952</td>\n",
       "      <td>-1675.833952</td>\n",
       "      <td>-1675.833952</td>\n",
       "      <td>-1675.833952</td>\n",
       "      <td>-1675.833952</td>\n",
       "      <td>-1675.833952</td>\n",
       "      <td>0.0</td>\n",
       "      <td>0.0</td>\n",
       "      <td>0.0</td>\n",
       "      <td>262025.915409</td>\n",
       "    </tr>\n",
       "    <tr>\n",
       "      <th>585</th>\n",
       "      <td>2018-10-01</td>\n",
       "      <td>263841.586239</td>\n",
       "      <td>262766.534859</td>\n",
       "      <td>274904.301662</td>\n",
       "      <td>263720.607578</td>\n",
       "      <td>263955.730076</td>\n",
       "      <td>5293.167898</td>\n",
       "      <td>5293.167898</td>\n",
       "      <td>5293.167898</td>\n",
       "      <td>5293.167898</td>\n",
       "      <td>5293.167898</td>\n",
       "      <td>5293.167898</td>\n",
       "      <td>0.0</td>\n",
       "      <td>0.0</td>\n",
       "      <td>0.0</td>\n",
       "      <td>269134.754137</td>\n",
       "    </tr>\n",
       "    <tr>\n",
       "      <th>586</th>\n",
       "      <td>2018-11-01</td>\n",
       "      <td>263986.084347</td>\n",
       "      <td>249653.253390</td>\n",
       "      <td>261374.616846</td>\n",
       "      <td>263815.182519</td>\n",
       "      <td>264141.022227</td>\n",
       "      <td>-8218.559465</td>\n",
       "      <td>-8218.559465</td>\n",
       "      <td>-8218.559465</td>\n",
       "      <td>-8218.559465</td>\n",
       "      <td>-8218.559465</td>\n",
       "      <td>-8218.559465</td>\n",
       "      <td>0.0</td>\n",
       "      <td>0.0</td>\n",
       "      <td>0.0</td>\n",
       "      <td>255767.524882</td>\n",
       "    </tr>\n",
       "    <tr>\n",
       "      <th>587</th>\n",
       "      <td>2018-12-01</td>\n",
       "      <td>264125.921226</td>\n",
       "      <td>251200.102416</td>\n",
       "      <td>262841.272060</td>\n",
       "      <td>263918.641540</td>\n",
       "      <td>264307.785391</td>\n",
       "      <td>-6932.605385</td>\n",
       "      <td>-6932.605385</td>\n",
       "      <td>-6932.605385</td>\n",
       "      <td>-6932.605385</td>\n",
       "      <td>-6932.605385</td>\n",
       "      <td>-6932.605385</td>\n",
       "      <td>0.0</td>\n",
       "      <td>0.0</td>\n",
       "      <td>0.0</td>\n",
       "      <td>257193.315841</td>\n",
       "    </tr>\n",
       "  </tbody>\n",
       "</table>\n",
       "<p>588 rows × 16 columns</p>\n",
       "</div>"
      ],
      "text/plain": [
       "            ds          trend     yhat_lower     yhat_upper    trend_lower  \\\n",
       "0   1970-01-01   94181.559784   69686.387567   81262.325944   94181.559784   \n",
       "1   1970-02-01   94493.496722   61615.557086   73105.003502   94493.496722   \n",
       "2   1970-03-01   94775.246215   88887.289035  100516.810519   94775.246215   \n",
       "3   1970-04-01   95087.183153   89450.620198  100540.225073   95087.183153   \n",
       "4   1970-05-01   95389.057609   99376.322554  110838.907583   95389.057609   \n",
       "..         ...            ...            ...            ...            ...   \n",
       "583 2018-08-01  263557.251253  274430.034732  285733.694417  263506.532058   \n",
       "584 2018-09-01  263701.749361  255776.464842  267974.359500  263614.600224   \n",
       "585 2018-10-01  263841.586239  262766.534859  274904.301662  263720.607578   \n",
       "586 2018-11-01  263986.084347  249653.253390  261374.616846  263815.182519   \n",
       "587 2018-12-01  264125.921226  251200.102416  262841.272060  263918.641540   \n",
       "\n",
       "       trend_upper  additive_terms  additive_terms_lower  \\\n",
       "0     94181.559784   -18599.797646         -18599.797646   \n",
       "1     94493.496722   -27108.834612         -27108.834612   \n",
       "2     94775.246215      -36.299658            -36.299658   \n",
       "3     95087.183153       27.606045             27.606045   \n",
       "4     95389.057609     9610.744015           9610.744015   \n",
       "..             ...             ...                   ...   \n",
       "583  263600.655622    16443.515456          16443.515456   \n",
       "584  263783.949373    -1675.833952          -1675.833952   \n",
       "585  263955.730076     5293.167898           5293.167898   \n",
       "586  264141.022227    -8218.559465          -8218.559465   \n",
       "587  264307.785391    -6932.605385          -6932.605385   \n",
       "\n",
       "     additive_terms_upper        yearly  yearly_lower  yearly_upper  \\\n",
       "0           -18599.797646 -18599.797646 -18599.797646 -18599.797646   \n",
       "1           -27108.834612 -27108.834612 -27108.834612 -27108.834612   \n",
       "2              -36.299658    -36.299658    -36.299658    -36.299658   \n",
       "3               27.606045     27.606045     27.606045     27.606045   \n",
       "4             9610.744015   9610.744015   9610.744015   9610.744015   \n",
       "..                    ...           ...           ...           ...   \n",
       "583          16443.515456  16443.515456  16443.515456  16443.515456   \n",
       "584          -1675.833952  -1675.833952  -1675.833952  -1675.833952   \n",
       "585           5293.167898   5293.167898   5293.167898   5293.167898   \n",
       "586          -8218.559465  -8218.559465  -8218.559465  -8218.559465   \n",
       "587          -6932.605385  -6932.605385  -6932.605385  -6932.605385   \n",
       "\n",
       "     multiplicative_terms  multiplicative_terms_lower  \\\n",
       "0                     0.0                         0.0   \n",
       "1                     0.0                         0.0   \n",
       "2                     0.0                         0.0   \n",
       "3                     0.0                         0.0   \n",
       "4                     0.0                         0.0   \n",
       "..                    ...                         ...   \n",
       "583                   0.0                         0.0   \n",
       "584                   0.0                         0.0   \n",
       "585                   0.0                         0.0   \n",
       "586                   0.0                         0.0   \n",
       "587                   0.0                         0.0   \n",
       "\n",
       "     multiplicative_terms_upper           yhat  \n",
       "0                           0.0   75581.762139  \n",
       "1                           0.0   67384.662111  \n",
       "2                           0.0   94738.946557  \n",
       "3                           0.0   95114.789197  \n",
       "4                           0.0  104999.801624  \n",
       "..                          ...            ...  \n",
       "583                         0.0  280000.766709  \n",
       "584                         0.0  262025.915409  \n",
       "585                         0.0  269134.754137  \n",
       "586                         0.0  255767.524882  \n",
       "587                         0.0  257193.315841  \n",
       "\n",
       "[588 rows x 16 columns]"
      ]
     },
     "execution_count": 16,
     "metadata": {},
     "output_type": "execute_result"
    }
   ],
   "source": [
    "forecast"
   ]
  },
  {
   "cell_type": "code",
   "execution_count": 21,
   "metadata": {},
   "outputs": [
    {
     "data": {
      "image/png": "[encoded data removed]",
      "text/plain": [
       "<Figure size 864x576 with 1 Axes>"
      ]
     },
     "metadata": {
      "needs_background": "light"
     },
     "output_type": "display_data"
    }
   ],
   "source": [
    "ax = forecast.plot(x='ds',y='yhat',label='Predictions',legend=True,figsize=(12,8))"
   ]
  },
  {
   "cell_type": "code",
   "execution_count": 23,
   "metadata": {},
   "outputs": [
    {
     "data": {
      "text/plain": [
       "<matplotlib.axes._subplots.AxesSubplot at 0x1b539270460>"
      ]
     },
     "execution_count": 23,
     "metadata": {},
     "output_type": "execute_result"
    },
    {
     "data": {
      "image/png": "[encoded data removed]",
      "text/plain": [
       "<Figure size 864x576 with 1 Axes>"
      ]
     },
     "metadata": {
      "needs_background": "light"
     },
     "output_type": "display_data"
    }
   ],
   "source": [
    "ax = forecast.plot(x='ds',y='yhat',label='Predictions',legend=True,figsize=(12,8))\n",
    "test.plot(x='ds',y='y',label='True Test Data',legend=True,ax=ax,xlim=('2018-01-01','2019-01-01'))"
   ]
  },
  {
   "cell_type": "code",
   "execution_count": 24,
   "metadata": {},
   "outputs": [],
   "source": [
    "from statsmodels.tools.eval_measures import rmse"
   ]
  },
  {
   "cell_type": "code",
   "execution_count": 25,
   "metadata": {},
   "outputs": [],
   "source": [
    "predictions = forecast.iloc[-12:]['yhat']"
   ]
  },
  {
   "cell_type": "code",
   "execution_count": 26,
   "metadata": {},
   "outputs": [
    {
     "data": {
      "text/plain": [
       "576    243969.272997\n",
       "577    235604.734139\n",
       "578    262807.783513\n",
       "579    263016.187323\n",
       "580    272739.162173\n",
       "581    272999.948918\n",
       "582    279459.160887\n",
       "583    280000.766709\n",
       "584    262025.915409\n",
       "585    269134.754137\n",
       "586    255767.524882\n",
       "587    257193.315841\n",
       "Name: yhat, dtype: float64"
      ]
     },
     "execution_count": 26,
     "metadata": {},
     "output_type": "execute_result"
    }
   ],
   "source": [
    "predictions"
   ]
  },
  {
   "cell_type": "code",
   "execution_count": 27,
   "metadata": {},
   "outputs": [
    {
     "data": {
      "text/plain": [
       "576    245695.0\n",
       "577    226660.0\n",
       "578    268480.0\n",
       "579    272475.0\n",
       "580    286164.0\n",
       "581    280877.0\n",
       "582    288145.0\n",
       "583    286608.0\n",
       "584    260595.0\n",
       "585    282174.0\n",
       "586    258590.0\n",
       "587    268413.0\n",
       "Name: y, dtype: float64"
      ]
     },
     "execution_count": 27,
     "metadata": {},
     "output_type": "execute_result"
    }
   ],
   "source": [
    "test['y']"
   ]
  },
  {
   "cell_type": "code",
   "execution_count": 28,
   "metadata": {},
   "outputs": [
    {
     "data": {
      "text/plain": [
       "8524.084735454997"
      ]
     },
     "execution_count": 28,
     "metadata": {},
     "output_type": "execute_result"
    }
   ],
   "source": [
    "rmse(predictions,test['y'])"
   ]
  },
  {
   "cell_type": "code",
   "execution_count": 29,
   "metadata": {},
   "outputs": [
    {
     "name": "stderr",
     "output_type": "stream",
     "text": [
      "<ipython-input-29-a428e52fa3ce>:1: FutureWarning: DataFrame.mean and DataFrame.median with numeric_only=None will include datetime64 and datetime64tz columns in a future version.\n",
      "  test.mean()\n"
     ]
    },
    {
     "data": {
      "text/plain": [
       "y    268739.666667\n",
       "dtype: float64"
      ]
     },
     "execution_count": 29,
     "metadata": {},
     "output_type": "execute_result"
    }
   ],
   "source": [
    "test.mean()"
   ]
  },
  {
   "cell_type": "code",
   "execution_count": 30,
   "metadata": {},
   "outputs": [],
   "source": [
    "from fbprophet.diagnostics import cross_validation,performance_metrics\n",
    "from fbprophet.plot import plot_cross_validation_metric"
   ]
  },
  {
   "cell_type": "code",
   "execution_count": 33,
   "metadata": {},
   "outputs": [],
   "source": [
    "#Initial\n",
    "initial =  5*365 # no.of days in 5 years\n",
    "initial = str(initial) + ' days'"
   ]
  },
  {
   "cell_type": "code",
   "execution_count": 34,
   "metadata": {},
   "outputs": [
    {
     "data": {
      "text/plain": [
       "'1825 days'"
      ]
     },
     "execution_count": 34,
     "metadata": {},
     "output_type": "execute_result"
    }
   ],
   "source": [
    "initial"
   ]
  },
  {
   "cell_type": "code",
   "execution_count": 35,
   "metadata": {},
   "outputs": [],
   "source": [
    "##Period\n",
    "period = 5 * 365\n",
    "period = str(period) +' days'"
   ]
  },
  {
   "cell_type": "code",
   "execution_count": 36,
   "metadata": {},
   "outputs": [
    {
     "data": {
      "text/plain": [
       "'1825 days'"
      ]
     },
     "execution_count": 36,
     "metadata": {},
     "output_type": "execute_result"
    }
   ],
   "source": [
    "period"
   ]
  },
  {
   "cell_type": "code",
   "execution_count": 37,
   "metadata": {},
   "outputs": [],
   "source": [
    "#Horizon --> HOW far you want to forecast   \n",
    "# forecasting for 1 year ahead\n",
    "\n",
    "horizon = 365\n",
    "horizon = str(horizon) +' days'"
   ]
  },
  {
   "cell_type": "code",
   "execution_count": 38,
   "metadata": {},
   "outputs": [
    {
     "data": {
      "text/plain": [
       "'365 days'"
      ]
     },
     "execution_count": 38,
     "metadata": {},
     "output_type": "execute_result"
    }
   ],
   "source": [
    "horizon"
   ]
  },
  {
   "cell_type": "code",
   "execution_count": 39,
   "metadata": {},
   "outputs": [
    {
     "name": "stderr",
     "output_type": "stream",
     "text": [
      "INFO:fbprophet:Making 9 forecasts with cutoffs between 1976-12-11 00:00:00 and 2016-12-01 00:00:00\n"
     ]
    },
    {
     "data": {
      "application/vnd.jupyter.widget-view+json": {
       "model_id": "ccc02f3818104421ab72bfca6d899636",
       "version_major": 2,
       "version_minor": 0
      },
      "text/plain": [
       "HBox(children=(FloatProgress(value=0.0, max=9.0), HTML(value='')))"
      ]
     },
     "metadata": {},
     "output_type": "display_data"
    },
    {
     "name": "stdout",
     "output_type": "stream",
     "text": [
      "\n"
     ]
    }
   ],
   "source": [
    "df_cv = cross_validation(m,initial=initial,period=period,horizon = horizon)"
   ]
  },
  {
   "cell_type": "code",
   "execution_count": 42,
   "metadata": {},
   "outputs": [
    {
     "data": {
      "text/html": [
       "<div>\n",
       "<style scoped>\n",
       "    .dataframe tbody tr th:only-of-type {\n",
       "        vertical-align: middle;\n",
       "    }\n",
       "\n",
       "    .dataframe tbody tr th {\n",
       "        vertical-align: top;\n",
       "    }\n",
       "\n",
       "    .dataframe thead th {\n",
       "        text-align: right;\n",
       "    }\n",
       "</style>\n",
       "<table border=\"1\" class=\"dataframe\">\n",
       "  <thead>\n",
       "    <tr style=\"text-align: right;\">\n",
       "      <th></th>\n",
       "      <th>ds</th>\n",
       "      <th>yhat</th>\n",
       "      <th>yhat_lower</th>\n",
       "      <th>yhat_upper</th>\n",
       "      <th>y</th>\n",
       "      <th>cutoff</th>\n",
       "    </tr>\n",
       "  </thead>\n",
       "  <tbody>\n",
       "    <tr>\n",
       "      <th>0</th>\n",
       "      <td>1977-01-01</td>\n",
       "      <td>108479.087397</td>\n",
       "      <td>106993.555707</td>\n",
       "      <td>109836.237089</td>\n",
       "      <td>102445.0</td>\n",
       "      <td>1976-12-11</td>\n",
       "    </tr>\n",
       "    <tr>\n",
       "      <th>1</th>\n",
       "      <td>1977-02-01</td>\n",
       "      <td>102996.111518</td>\n",
       "      <td>101477.465295</td>\n",
       "      <td>104445.549934</td>\n",
       "      <td>102416.0</td>\n",
       "      <td>1976-12-11</td>\n",
       "    </tr>\n",
       "    <tr>\n",
       "      <th>2</th>\n",
       "      <td>1977-03-01</td>\n",
       "      <td>118973.318133</td>\n",
       "      <td>117440.208069</td>\n",
       "      <td>120371.652436</td>\n",
       "      <td>119960.0</td>\n",
       "      <td>1976-12-11</td>\n",
       "    </tr>\n",
       "    <tr>\n",
       "      <th>3</th>\n",
       "      <td>1977-04-01</td>\n",
       "      <td>120612.923726</td>\n",
       "      <td>119113.488158</td>\n",
       "      <td>122179.497684</td>\n",
       "      <td>121513.0</td>\n",
       "      <td>1976-12-11</td>\n",
       "    </tr>\n",
       "    <tr>\n",
       "      <th>4</th>\n",
       "      <td>1977-05-01</td>\n",
       "      <td>127883.031847</td>\n",
       "      <td>126390.288912</td>\n",
       "      <td>129269.133867</td>\n",
       "      <td>128884.0</td>\n",
       "      <td>1976-12-11</td>\n",
       "    </tr>\n",
       "  </tbody>\n",
       "</table>\n",
       "</div>"
      ],
      "text/plain": [
       "          ds           yhat     yhat_lower     yhat_upper         y     cutoff\n",
       "0 1977-01-01  108479.087397  106993.555707  109836.237089  102445.0 1976-12-11\n",
       "1 1977-02-01  102996.111518  101477.465295  104445.549934  102416.0 1976-12-11\n",
       "2 1977-03-01  118973.318133  117440.208069  120371.652436  119960.0 1976-12-11\n",
       "3 1977-04-01  120612.923726  119113.488158  122179.497684  121513.0 1976-12-11\n",
       "4 1977-05-01  127883.031847  126390.288912  129269.133867  128884.0 1976-12-11"
      ]
     },
     "execution_count": 42,
     "metadata": {},
     "output_type": "execute_result"
    }
   ],
   "source": [
    "#cross validation df\n",
    "df_cv.head()"
   ]
  },
  {
   "cell_type": "code",
   "execution_count": 43,
   "metadata": {},
   "outputs": [
    {
     "data": {
      "text/plain": [
       "108"
      ]
     },
     "execution_count": 43,
     "metadata": {},
     "output_type": "execute_result"
    }
   ],
   "source": [
    "len(df_cv)"
   ]
  },
  {
   "cell_type": "code",
   "execution_count": 44,
   "metadata": {},
   "outputs": [
    {
     "data": {
      "text/html": [
       "<div>\n",
       "<style scoped>\n",
       "    .dataframe tbody tr th:only-of-type {\n",
       "        vertical-align: middle;\n",
       "    }\n",
       "\n",
       "    .dataframe tbody tr th {\n",
       "        vertical-align: top;\n",
       "    }\n",
       "\n",
       "    .dataframe thead th {\n",
       "        text-align: right;\n",
       "    }\n",
       "</style>\n",
       "<table border=\"1\" class=\"dataframe\">\n",
       "  <thead>\n",
       "    <tr style=\"text-align: right;\">\n",
       "      <th></th>\n",
       "      <th>horizon</th>\n",
       "      <th>mse</th>\n",
       "      <th>rmse</th>\n",
       "      <th>mae</th>\n",
       "      <th>mape</th>\n",
       "      <th>mdape</th>\n",
       "      <th>coverage</th>\n",
       "    </tr>\n",
       "  </thead>\n",
       "  <tbody>\n",
       "    <tr>\n",
       "      <th>0</th>\n",
       "      <td>52 days</td>\n",
       "      <td>2.440480e+07</td>\n",
       "      <td>4940.121674</td>\n",
       "      <td>4543.226142</td>\n",
       "      <td>0.027839</td>\n",
       "      <td>0.023430</td>\n",
       "      <td>0.4</td>\n",
       "    </tr>\n",
       "    <tr>\n",
       "      <th>1</th>\n",
       "      <td>53 days</td>\n",
       "      <td>2.189073e+07</td>\n",
       "      <td>4678.753115</td>\n",
       "      <td>4275.518107</td>\n",
       "      <td>0.025071</td>\n",
       "      <td>0.023430</td>\n",
       "      <td>0.4</td>\n",
       "    </tr>\n",
       "    <tr>\n",
       "      <th>2</th>\n",
       "      <td>54 days</td>\n",
       "      <td>1.845424e+07</td>\n",
       "      <td>4295.839617</td>\n",
       "      <td>3751.881988</td>\n",
       "      <td>0.020184</td>\n",
       "      <td>0.022341</td>\n",
       "      <td>0.5</td>\n",
       "    </tr>\n",
       "    <tr>\n",
       "      <th>3</th>\n",
       "      <td>55 days</td>\n",
       "      <td>2.353986e+07</td>\n",
       "      <td>4851.789757</td>\n",
       "      <td>4286.500962</td>\n",
       "      <td>0.023332</td>\n",
       "      <td>0.023430</td>\n",
       "      <td>0.4</td>\n",
       "    </tr>\n",
       "    <tr>\n",
       "      <th>4</th>\n",
       "      <td>57 days</td>\n",
       "      <td>2.121071e+07</td>\n",
       "      <td>4605.508636</td>\n",
       "      <td>4011.466093</td>\n",
       "      <td>0.021541</td>\n",
       "      <td>0.022341</td>\n",
       "      <td>0.5</td>\n",
       "    </tr>\n",
       "    <tr>\n",
       "      <th>...</th>\n",
       "      <td>...</td>\n",
       "      <td>...</td>\n",
       "      <td>...</td>\n",
       "      <td>...</td>\n",
       "      <td>...</td>\n",
       "      <td>...</td>\n",
       "      <td>...</td>\n",
       "    </tr>\n",
       "    <tr>\n",
       "      <th>94</th>\n",
       "      <td>360 days</td>\n",
       "      <td>1.844636e+07</td>\n",
       "      <td>4294.922982</td>\n",
       "      <td>3768.283191</td>\n",
       "      <td>0.019668</td>\n",
       "      <td>0.019608</td>\n",
       "      <td>0.5</td>\n",
       "    </tr>\n",
       "    <tr>\n",
       "      <th>95</th>\n",
       "      <td>361 days</td>\n",
       "      <td>1.755041e+07</td>\n",
       "      <td>4189.321092</td>\n",
       "      <td>3487.275332</td>\n",
       "      <td>0.018267</td>\n",
       "      <td>0.019006</td>\n",
       "      <td>0.5</td>\n",
       "    </tr>\n",
       "    <tr>\n",
       "      <th>96</th>\n",
       "      <td>362 days</td>\n",
       "      <td>3.171401e+07</td>\n",
       "      <td>5631.519540</td>\n",
       "      <td>4404.117322</td>\n",
       "      <td>0.022028</td>\n",
       "      <td>0.024617</td>\n",
       "      <td>0.4</td>\n",
       "    </tr>\n",
       "    <tr>\n",
       "      <th>97</th>\n",
       "      <td>364 days</td>\n",
       "      <td>3.002471e+07</td>\n",
       "      <td>5479.480904</td>\n",
       "      <td>4245.018294</td>\n",
       "      <td>0.021435</td>\n",
       "      <td>0.021653</td>\n",
       "      <td>0.5</td>\n",
       "    </tr>\n",
       "    <tr>\n",
       "      <th>98</th>\n",
       "      <td>365 days</td>\n",
       "      <td>5.520529e+07</td>\n",
       "      <td>7430.026349</td>\n",
       "      <td>5655.313486</td>\n",
       "      <td>0.026650</td>\n",
       "      <td>0.025315</td>\n",
       "      <td>0.4</td>\n",
       "    </tr>\n",
       "  </tbody>\n",
       "</table>\n",
       "<p>99 rows × 7 columns</p>\n",
       "</div>"
      ],
      "text/plain": [
       "    horizon           mse         rmse          mae      mape     mdape  \\\n",
       "0   52 days  2.440480e+07  4940.121674  4543.226142  0.027839  0.023430   \n",
       "1   53 days  2.189073e+07  4678.753115  4275.518107  0.025071  0.023430   \n",
       "2   54 days  1.845424e+07  4295.839617  3751.881988  0.020184  0.022341   \n",
       "3   55 days  2.353986e+07  4851.789757  4286.500962  0.023332  0.023430   \n",
       "4   57 days  2.121071e+07  4605.508636  4011.466093  0.021541  0.022341   \n",
       "..      ...           ...          ...          ...       ...       ...   \n",
       "94 360 days  1.844636e+07  4294.922982  3768.283191  0.019668  0.019608   \n",
       "95 361 days  1.755041e+07  4189.321092  3487.275332  0.018267  0.019006   \n",
       "96 362 days  3.171401e+07  5631.519540  4404.117322  0.022028  0.024617   \n",
       "97 364 days  3.002471e+07  5479.480904  4245.018294  0.021435  0.021653   \n",
       "98 365 days  5.520529e+07  7430.026349  5655.313486  0.026650  0.025315   \n",
       "\n",
       "    coverage  \n",
       "0        0.4  \n",
       "1        0.4  \n",
       "2        0.5  \n",
       "3        0.4  \n",
       "4        0.5  \n",
       "..       ...  \n",
       "94       0.5  \n",
       "95       0.5  \n",
       "96       0.4  \n",
       "97       0.5  \n",
       "98       0.4  \n",
       "\n",
       "[99 rows x 7 columns]"
      ]
     },
     "execution_count": 44,
     "metadata": {},
     "output_type": "execute_result"
    }
   ],
   "source": [
    "performance_metrics(df_cv)"
   ]
  },
  {
   "cell_type": "code",
   "execution_count": 46,
   "metadata": {},
   "outputs": [
    {
     "name": "stderr",
     "output_type": "stream",
     "text": [
      "C:\\Users\\Arvind\\anaconda3\\lib\\site-packages\\fbprophet\\plot.py:526: FutureWarning: casting timedelta64[ns] values to int64 with .astype(...) is deprecated and will raise in a future version. Use .view(...) instead.\n",
      "  x_plt = df_none['horizon'].astype('timedelta64[ns]').astype(np.int64) / float(dt_conversions[i])\n",
      "C:\\Users\\Arvind\\anaconda3\\lib\\site-packages\\fbprophet\\plot.py:527: FutureWarning: casting timedelta64[ns] values to int64 with .astype(...) is deprecated and will raise in a future version. Use .view(...) instead.\n",
      "  x_plt_h = df_h['horizon'].astype('timedelta64[ns]').astype(np.int64) / float(dt_conversions[i])\n"
     ]
    },
    {
     "data": {
      "image/png": "[encoded data removed]",
      "text/plain": [
       "<Figure size 720x432 with 1 Axes>"
      ]
     },
     "metadata": {},
     "output_type": "display_data"
    }
   ],
   "source": [
    "plot_cross_validation_metric(df_cv,metric='rmse');"
   ]
  },
  {
   "cell_type": "code",
   "execution_count": 47,
   "metadata": {},
   "outputs": [
    {
     "name": "stderr",
     "output_type": "stream",
     "text": [
      "C:\\Users\\Arvind\\anaconda3\\lib\\site-packages\\fbprophet\\plot.py:526: FutureWarning: casting timedelta64[ns] values to int64 with .astype(...) is deprecated and will raise in a future version. Use .view(...) instead.\n",
      "  x_plt = df_none['horizon'].astype('timedelta64[ns]').astype(np.int64) / float(dt_conversions[i])\n",
      "C:\\Users\\Arvind\\anaconda3\\lib\\site-packages\\fbprophet\\plot.py:527: FutureWarning: casting timedelta64[ns] values to int64 with .astype(...) is deprecated and will raise in a future version. Use .view(...) instead.\n",
      "  x_plt_h = df_h['horizon'].astype('timedelta64[ns]').astype(np.int64) / float(dt_conversions[i])\n"
     ]
    },
    {
     "data": {
      "image/png": "[encoded data removed]",
      "text/plain": [
       "<Figure size 720x432 with 1 Axes>"
      ]
     },
     "metadata": {},
     "output_type": "display_data"
    }
   ],
   "source": [
    "plot_cross_validation_metric(df_cv,metric='mape');"
   ]
  },
  {
   "cell_type": "code",
   "execution_count": null,
   "metadata": {},
   "outputs": [],
   "source": []
  },
  {
   "cell_type": "code",
   "execution_count": null,
   "metadata": {},
   "outputs": [],
   "source": []
  },
  {
   "cell_type": "code",
   "execution_count": null,
   "metadata": {},
   "outputs": [],
   "source": []
  },
  {
   "cell_type": "code",
   "execution_count": null,
   "metadata": {},
   "outputs": [],
   "source": []
  },
  {
   "cell_type": "code",
   "execution_count": null,
   "metadata": {},
   "outputs": [],
   "source": []
  },
  {
   "cell_type": "code",
   "execution_count": null,
   "metadata": {},
   "outputs": [],
   "source": []
  }
 ],
 "metadata": {
  "kernelspec": {
   "display_name": "Python 3",
   "language": "python",
   "name": "python3"
  },
  "language_info": {
   "codemirror_mode": {
    "name": "ipython",
    "version": 3
   },
   "file_extension": ".py",
   "mimetype": "text/x-python",
   "name": "python",
   "nbconvert_exporter": "python",
   "pygments_lexer": "ipython3",
   "version": "3.8.3"
  }
 },
 "nbformat": 4,
 "nbformat_minor": 4
}
